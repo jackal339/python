{
 "cells": [
  {
   "cell_type": "code",
   "execution_count": 30,
   "id": "4eea7d0b",
   "metadata": {},
   "outputs": [],
   "source": [
    "import pandas as pd\n",
    "import numpy as np\n",
    "import matplotlib.pyplot as plt\n",
    "import seaborn as sns"
   ]
  },
  {
   "cell_type": "code",
   "execution_count": 31,
   "id": "965a8995",
   "metadata": {},
   "outputs": [],
   "source": [
    "missing_values = [\"n/a\", \"na\", \"--\", \"NaN\", \"\", \"A\"]\n",
    "df = pd.read_csv(\"AcademicPerformance.csv\", na_values=missing_values)"
   ]
  },
  {
   "cell_type": "code",
   "execution_count": 32,
   "id": "2c2b182a",
   "metadata": {},
   "outputs": [
    {
     "name": "stdout",
     "output_type": "stream",
     "text": [
      "\n",
      "Initial Dimensions: (2240, 11)\n",
      "\n",
      "First 5 Rows:\n",
      "   gender race/ethnicity parental level of education         lunch  \\\n",
      "0  female        group B           bachelor's degree      standard   \n",
      "1  female        group C                some college      standard   \n",
      "2  female        group B             master's degree      standard   \n",
      "3    male        group A          associate's degree  free/reduced   \n",
      "4    male        group C                some college      standard   \n",
      "\n",
      "  test preparation course  Year_Birth  math score  reading score  \\\n",
      "0                    none      1970.0        72.0           72.0   \n",
      "1               completed      1961.0         NaN            NaN   \n",
      "2                    none      1958.0        90.0           95.0   \n",
      "3                    none      1967.0         NaN            NaN   \n",
      "4                    none      1989.0        76.0           78.0   \n",
      "\n",
      "   writing score Dt_Admission College_Fees  \n",
      "0           74.0      6/16/14  $84,835.00   \n",
      "1            NaN      6/15/14  $57,091.00   \n",
      "2           93.0      5/13/14  $67,267.00   \n",
      "3           44.0   05-11-2014  $32,474.00   \n",
      "4           75.0   04-08-2014  $21,474.00   \n"
     ]
    }
   ],
   "source": [
    "print(f\"\\nInitial Dimensions: {df.shape}\")\n",
    "print(\"\\nFirst 5 Rows:\")\n",
    "print(df.head())"
   ]
  },
  {
   "cell_type": "code",
   "execution_count": 33,
   "id": "363f6567",
   "metadata": {},
   "outputs": [
    {
     "name": "stdout",
     "output_type": "stream",
     "text": [
      "gender                         1240\n",
      "race/ethnicity                 1240\n",
      "parental level of education    1240\n",
      "lunch                          1240\n",
      "test preparation course        1240\n",
      "Year_Birth                     1240\n",
      "math score                     1242\n",
      "reading score                  1242\n",
      "writing score                  1241\n",
      "Dt_Admission                   1240\n",
      "College_Fees                   1245\n",
      "dtype: int64\n"
     ]
    }
   ],
   "source": [
    "print(df.isnull().sum())"
   ]
  },
  {
   "cell_type": "code",
   "execution_count": 34,
   "id": "d9e0d1cb",
   "metadata": {},
   "outputs": [
    {
     "name": "stdout",
     "output_type": "stream",
     "text": [
      "\n",
      "Dropped 1247 rows with null values\n",
      "\n",
      "Remaining Data Dimensions: (993, 11)\n",
      "\n",
      "Missing Values After Dropping:\n",
      "gender                         0\n",
      "race/ethnicity                 0\n",
      "parental level of education    0\n",
      "lunch                          0\n",
      "test preparation course        0\n",
      "Year_Birth                     0\n",
      "math score                     0\n",
      "reading score                  0\n",
      "writing score                  0\n",
      "Dt_Admission                   0\n",
      "College_Fees                   0\n",
      "dtype: int64\n"
     ]
    }
   ],
   "source": [
    "initial_count = len(df)\n",
    "df = df.dropna(how='any')\n",
    "dropped_count = initial_count - len(df)\n",
    "\n",
    "print(f\"\\nDropped {dropped_count} rows with null values\")\n",
    "print(f\"\\nRemaining Data Dimensions: {df.shape}\")\n",
    "print(\"\\nMissing Values After Dropping:\")\n",
    "print(df.isnull().sum())"
   ]
  },
  {
   "cell_type": "code",
   "execution_count": 35,
   "id": "37d1b15f",
   "metadata": {},
   "outputs": [
    {
     "data": {
      "text/plain": [
       "<Axes: >"
      ]
     },
     "execution_count": 35,
     "metadata": {},
     "output_type": "execute_result"
    },
    {
     "data": {
      "image/png": "[encoded data removed]",
      "text/plain": [
       "<Figure size 640x480 with 1 Axes>"
      ]
     },
     "metadata": {},
     "output_type": "display_data"
    }
   ],
   "source": [
    "sns.boxplot(data=df[['math score', 'reading score', 'writing score']])"
   ]
  },
  {
   "cell_type": "code",
   "execution_count": 36,
   "id": "0470c2e0",
   "metadata": {},
   "outputs": [],
   "source": [
    "def treat_outliers(df, col):\n",
    "    Q1 = df[col].quantile(0.25)\n",
    "    Q3 = df[col].quantile(0.75)\n",
    "    IQR = Q3 - Q1\n",
    "    lower_bound = Q1 - 1.5*IQR\n",
    "    upper_bound = Q3 + 1.5*IQR\n",
    "    \n",
    "    # Cap outliers\n",
    "    df[col] = np.where(df[col] < lower_bound, lower_bound, df[col])\n",
    "    df[col] = np.where(df[col] > upper_bound, upper_bound, df[col])\n",
    "    return df\n",
    "\n",
    "for col in ['math score', 'reading score', 'writing score']:\n",
    "    df = treat_outliers(df, col)"
   ]
  },
  {
   "cell_type": "code",
   "execution_count": 37,
   "id": "58be1c10",
   "metadata": {},
   "outputs": [
    {
     "data": {
      "text/plain": [
       "<Axes: >"
      ]
     },
     "execution_count": 37,
     "metadata": {},
     "output_type": "execute_result"
    },
    {
     "data": {
      "image/png": "[encoded data removed]",
      "text/plain": [
       "<Figure size 640x480 with 1 Axes>"
      ]
     },
     "metadata": {},
     "output_type": "display_data"
    }
   ],
   "source": [
    "sns.boxplot(data=df[['math score', 'reading score', 'writing score']])"
   ]
  },
  {
   "cell_type": "code",
   "execution_count": 38,
   "id": "6c6ce3ba",
   "metadata": {},
   "outputs": [],
   "source": [
    "df['College_Fees'] = df['College_Fees'].str.replace('$', '').str.replace(',', '').astype(float)\n",
    "df['College_Fees'] = df['College_Fees'].apply(lambda x: round(x/100000, 2))"
   ]
  },
  {
   "cell_type": "code",
   "execution_count": 39,
   "id": "3a3a81fa",
   "metadata": {},
   "outputs": [
    {
     "name": "stdout",
     "output_type": "stream",
     "text": [
      "0      0.85\n",
      "2      0.67\n",
      "4      0.21\n",
      "5      0.72\n",
      "6      0.64\n",
      "       ... \n",
      "995    0.57\n",
      "996    0.76\n",
      "997    0.76\n",
      "998    0.51\n",
      "999    0.44\n",
      "Name: College_Fees, Length: 993, dtype: float64\n"
     ]
    }
   ],
   "source": [
    "print(df['College_Fees'])"
   ]
  }
 ],
 "metadata": {
  "kernelspec": {
   "display_name": "Python 3",
   "language": "python",
   "name": "python3"
  },
  "language_info": {
   "codemirror_mode": {
    "name": "ipython",
    "version": 3
   },
   "file_extension": ".py",
   "mimetype": "text/x-python",
   "name": "python",
   "nbconvert_exporter": "python",
   "pygments_lexer": "ipython3",
   "version": "3.10.9"
  }
 },
 "nbformat": 4,
 "nbformat_minor": 5
}
